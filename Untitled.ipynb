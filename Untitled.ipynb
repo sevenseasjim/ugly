{
 "cells": [
  {
   "cell_type": "code",
   "execution_count": 4,
   "metadata": {
    "collapsed": false
   },
   "outputs": [],
   "source": [
    "import pandas as pd\n",
    "\n",
    "\n",
    "date_format_str = \"%Y-%m-%d %H:%M:%S\"\n",
    "date_parser = lambda u: pd.datetime.strptime(u, date_format_str)\n",
    "df = pd.read_csv(\"manhattan.csv\",\n",
    "                     parse_dates=True,\n",
    "                     date_parser=date_parser,\n",
    "                     header = 0,\n",
    "                     index_col=1) # peek into the csv: col 0 is 'timestamp'\n",
    "    # Save only vehicle id\n",
    "df = df[['vehicle_id','latitude','longitude']]\n",
    "df.to_csv('bus_data.csv')\n"
   ]
  },
  {
   "cell_type": "code",
   "execution_count": null,
   "metadata": {
    "collapsed": true
   },
   "outputs": [],
   "source": []
  }
 ],
 "metadata": {
  "anaconda-cloud": {},
  "kernelspec": {
   "display_name": "Python [Root]",
   "language": "python",
   "name": "Python [Root]"
  },
  "language_info": {
   "codemirror_mode": {
    "name": "ipython",
    "version": 2
   },
   "file_extension": ".py",
   "mimetype": "text/x-python",
   "name": "python",
   "nbconvert_exporter": "python",
   "pygments_lexer": "ipython2",
   "version": "2.7.12"
  }
 },
 "nbformat": 4,
 "nbformat_minor": 0
}
